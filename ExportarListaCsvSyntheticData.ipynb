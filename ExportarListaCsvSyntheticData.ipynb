{
 "cells": [
  {
   "cell_type": "code",
   "execution_count": 1,
   "id": "ce5bb849-7994-49c2-8c51-7d5c47c1c903",
   "metadata": {},
   "outputs": [
    {
     "name": "stdout",
     "output_type": "stream",
     "text": [
      "Requirement already satisfied: Faker in c:\\users\\riotb\\anaconda3\\lib\\site-packages (19.2.0)\n",
      "Requirement already satisfied: python-dateutil>=2.4 in c:\\users\\riotb\\anaconda3\\lib\\site-packages (from Faker) (2.8.2)\n",
      "Requirement already satisfied: six>=1.5 in c:\\users\\riotb\\anaconda3\\lib\\site-packages (from python-dateutil>=2.4->Faker) (1.16.0)\n"
     ]
    }
   ],
   "source": [
    "!pip install Faker"
   ]
  },
  {
   "cell_type": "code",
   "execution_count": 2,
   "id": "e929c048-a52a-4517-8c9b-4006bf57d56f",
   "metadata": {},
   "outputs": [],
   "source": [
    "from faker import Faker\n",
    "\n",
    "generador = Faker()"
   ]
  },
  {
   "cell_type": "code",
   "execution_count": 3,
   "id": "50fc09f6-0a7c-41c2-b254-f722b5a46bb6",
   "metadata": {},
   "outputs": [],
   "source": [
    "lista_nombres = []\n",
    "for x in range(0,20):\n",
    "    lista_nombres.append(generador.name())"
   ]
  },
  {
   "cell_type": "code",
   "execution_count": 5,
   "id": "0d9a80d1-786e-4b4c-b8c9-9e2d49d99a3e",
   "metadata": {},
   "outputs": [],
   "source": [
    "lista_direcciones = []\n",
    "for x in range(0,20):\n",
    "    lista_direcciones.append(generador.address())\n",
    "    "
   ]
  },
  {
   "cell_type": "code",
   "execution_count": 6,
   "id": "8c58394a-be51-4107-9edc-c15244856050",
   "metadata": {},
   "outputs": [
    {
     "data": {
      "text/plain": [
       "['284 Beck Island\\nCarlosbury, MN 13095',\n",
       " '196 Powers Glen Suite 151\\nLake Michael, ID 50198',\n",
       " '1958 Hood Trail Suite 263\\nJessicahaven, CT 91016',\n",
       " '793 Ortega Mall\\nLake Juanville, NE 47013',\n",
       " '9665 Cynthia Village Suite 288\\nLake Terrihaven, MD 01588',\n",
       " '92313 James Vista Apt. 486\\nSouth Brandon, HI 31958',\n",
       " '30709 Gentry Fords\\nWest Anntown, FM 75983',\n",
       " '260 Ronald Junction\\nMaryfurt, VA 64946',\n",
       " '377 Sierra Trafficway\\nBrownfurt, LA 29953',\n",
       " '7544 Cheryl Camp Apt. 945\\nEast Johnside, SD 10247',\n",
       " '12585 Mark Shoal\\nNew Bruceside, WI 90888',\n",
       " '14463 Nathaniel Ford Suite 453\\nNorth Carolinemouth, NY 58439',\n",
       " '418 Jacob Manors\\nLake Catherine, AR 17563',\n",
       " '65120 Hannah Ferry\\nEast Samuel, PR 36449',\n",
       " '86716 Alicia Roads Apt. 669\\nJonesburgh, SD 03742',\n",
       " '2965 Nicholas Courts Suite 749\\nNorth John, PW 80354',\n",
       " '5785 Erica Square Suite 895\\nBrianland, OK 86101',\n",
       " '514 Albert Walk\\nPort Barbara, AK 87092',\n",
       " '259 Rodriguez Wells Apt. 005\\nNicholestad, FL 11502',\n",
       " '0115 Matthew Oval\\nMarytown, PR 19356']"
      ]
     },
     "execution_count": 6,
     "metadata": {},
     "output_type": "execute_result"
    }
   ],
   "source": [
    "lista_direcciones"
   ]
  },
  {
   "cell_type": "code",
   "execution_count": 7,
   "id": "608526a9-2ae3-45b2-aa45-40ab64cfaa0a",
   "metadata": {},
   "outputs": [],
   "source": [
    "import pandas as pd\n",
    "\n",
    "d = {'nombre':lista_nombres, 'direcciones':lista_direcciones}\n",
    "\n",
    "df = pd.DataFrame(d)\n",
    "\n",
    "df.to_csv('C:\\\\Users\\\\riotb\\\\OneDrive\\\\Desktop\\\\faker\\\\directory.csv')"
   ]
  }
 ],
 "metadata": {
  "kernelspec": {
   "display_name": "Python 3 (ipykernel)",
   "language": "python",
   "name": "python3"
  },
  "language_info": {
   "codemirror_mode": {
    "name": "ipython",
    "version": 3
   },
   "file_extension": ".py",
   "mimetype": "text/x-python",
   "name": "python",
   "nbconvert_exporter": "python",
   "pygments_lexer": "ipython3",
   "version": "3.9.12"
  }
 },
 "nbformat": 4,
 "nbformat_minor": 5
}
