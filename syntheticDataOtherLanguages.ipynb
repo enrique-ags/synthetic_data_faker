{
 "cells": [
  {
   "cell_type": "code",
   "execution_count": 1,
   "id": "7597a93f-d1ef-416d-9096-ba47c4356532",
   "metadata": {},
   "outputs": [
    {
     "name": "stdout",
     "output_type": "stream",
     "text": [
      "Requirement already satisfied: Faker in c:\\users\\riotb\\anaconda3\\lib\\site-packages (19.2.0)\n",
      "Requirement already satisfied: python-dateutil>=2.4 in c:\\users\\riotb\\anaconda3\\lib\\site-packages (from Faker) (2.8.2)\n",
      "Requirement already satisfied: six>=1.5 in c:\\users\\riotb\\anaconda3\\lib\\site-packages (from python-dateutil>=2.4->Faker) (1.16.0)\n"
     ]
    }
   ],
   "source": [
    "!pip install Faker\n"
   ]
  },
  {
   "cell_type": "code",
   "execution_count": 3,
   "id": "b1fae33d-cff2-4365-a281-16cab87e2fbd",
   "metadata": {},
   "outputs": [
    {
     "data": {
      "text/plain": [
       "'Barbara Caccianemico'"
      ]
     },
     "execution_count": 3,
     "metadata": {},
     "output_type": "execute_result"
    }
   ],
   "source": [
    "from faker import Faker\n",
    "# italian language\n",
    "generador = Faker('it_IT')\n",
    "generador.name()"
   ]
  },
  {
   "cell_type": "code",
   "execution_count": 4,
   "id": "6543d0f1-2bc3-4e31-93d0-92dcc1ca6186",
   "metadata": {},
   "outputs": [
    {
     "data": {
      "text/plain": [
       "'Quibusdam aliquid porro vitae atque velit tempora. In est ipsam molestias debitis odit fugit. Unde architecto voluptatibus labore voluptates fugiat.'"
      ]
     },
     "execution_count": 4,
     "metadata": {},
     "output_type": "execute_result"
    }
   ],
   "source": [
    "generador.text()"
   ]
  },
  {
   "cell_type": "code",
   "execution_count": 5,
   "id": "155167a1-dde4-437f-a23d-ec5ec6bb52a4",
   "metadata": {},
   "outputs": [
    {
     "data": {
      "text/plain": [
       "'明らかにする癌極端な符号。見落とす野球緩む。状況電話特徴狐厳しい呼ぶ差別する。\\n主婦君は人形反射腐った埋め込む。クロス数字尿。コミュニケーション部隊探査マリン今日尿。特徴分割数字持っていましたオークション衝突。\\n探査脊椎細かい花嫁障害画面助けて。協力ピック出演者トースト厳しい〜じぶんの。合計見出しコーラス明らかにするサンプル副。虐待目的アクセルペダル目的器官呼ぶインチ品質。'"
      ]
     },
     "execution_count": 5,
     "metadata": {},
     "output_type": "execute_result"
    }
   ],
   "source": [
    "generador = Faker('jp_JP')\n",
    "generador.text()"
   ]
  },
  {
   "cell_type": "code",
   "execution_count": 12,
   "id": "3d8627dd-0e6b-4050-9a02-6425667fabb3",
   "metadata": {},
   "outputs": [
    {
     "data": {
      "text/plain": [
       "'木村 京助'"
      ]
     },
     "execution_count": 12,
     "metadata": {},
     "output_type": "execute_result"
    }
   ],
   "source": [
    "generador.name()"
   ]
  },
  {
   "cell_type": "code",
   "execution_count": 13,
   "id": "b64d7881-b1f0-44d3-876b-553cee61bd2d",
   "metadata": {},
   "outputs": [
    {
     "data": {
      "text/plain": [
       "'Ярослав Феодосьевич Михеев'"
      ]
     },
     "execution_count": 13,
     "metadata": {},
     "output_type": "execute_result"
    }
   ],
   "source": [
    "generador = Faker('ru_RU')\n",
    "generador.name()"
   ]
  },
  {
   "cell_type": "code",
   "execution_count": 14,
   "id": "b1cb4908-c6d6-489f-a39d-cf3a912b58c3",
   "metadata": {},
   "outputs": [
    {
     "data": {
      "text/plain": [
       "'Трясти командующий военный ход четыре мимо умирать. Помолчать собеседник потянуться запустить правильный.\\nМагазин провал еврейский зеленый тусклый деловой угодный.'"
      ]
     },
     "execution_count": 14,
     "metadata": {},
     "output_type": "execute_result"
    }
   ],
   "source": [
    "generador.text()"
   ]
  }
 ],
 "metadata": {
  "kernelspec": {
   "display_name": "Python 3 (ipykernel)",
   "language": "python",
   "name": "python3"
  },
  "language_info": {
   "codemirror_mode": {
    "name": "ipython",
    "version": 3
   },
   "file_extension": ".py",
   "mimetype": "text/x-python",
   "name": "python",
   "nbconvert_exporter": "python",
   "pygments_lexer": "ipython3",
   "version": "3.9.12"
  }
 },
 "nbformat": 4,
 "nbformat_minor": 5
}
