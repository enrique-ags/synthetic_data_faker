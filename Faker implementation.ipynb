{
 "cells": [
  {
   "cell_type": "code",
   "execution_count": 11,
   "id": "6bda6f33-bfca-4377-98db-a12832cd5fdb",
   "metadata": {},
   "outputs": [
    {
     "name": "stdout",
     "output_type": "stream",
     "text": [
      "Requirement already satisfied: Faker in c:\\users\\riotb\\anaconda3\\lib\\site-packages (19.2.0)\n",
      "Requirement already satisfied: python-dateutil>=2.4 in c:\\users\\riotb\\anaconda3\\lib\\site-packages (from Faker) (2.8.2)\n",
      "Requirement already satisfied: six>=1.5 in c:\\users\\riotb\\anaconda3\\lib\\site-packages (from python-dateutil>=2.4->Faker) (1.16.0)\n"
     ]
    }
   ],
   "source": [
    "!pip install Faker"
   ]
  },
  {
   "cell_type": "code",
   "execution_count": 5,
   "id": "25aebcb4-2c27-4289-8f66-055bdae9c15b",
   "metadata": {},
   "outputs": [],
   "source": [
    "from faker import Faker\n",
    "fake = Faker()\n"
   ]
  },
  {
   "cell_type": "code",
   "execution_count": 12,
   "id": "d3b92487-2065-416c-8933-d8e5fa3ab15c",
   "metadata": {},
   "outputs": [
    {
     "data": {
      "text/plain": [
       "'Julia Watson'"
      ]
     },
     "execution_count": 12,
     "metadata": {},
     "output_type": "execute_result"
    }
   ],
   "source": [
    "fake.name()"
   ]
  },
  {
   "cell_type": "code",
   "execution_count": 13,
   "id": "b08e59bd-a6c5-4edc-b403-ffc7ea55c48c",
   "metadata": {},
   "outputs": [],
   "source": [
    "lista_nombres= []\n",
    "for x in range(0,10):\n",
    "    lista_nombres.append(fake.name())"
   ]
  },
  {
   "cell_type": "code",
   "execution_count": 14,
   "id": "5d22be6b-9292-4c16-b555-c7277ba3c02b",
   "metadata": {},
   "outputs": [
    {
     "data": {
      "text/plain": [
       "['Elizabeth Mcfarland MD',\n",
       " 'Michael Martin III',\n",
       " 'Leslie Fletcher',\n",
       " 'Scott Norris',\n",
       " 'Angela Bell',\n",
       " 'Pamela Contreras',\n",
       " 'April Smith',\n",
       " 'Taylor Miller',\n",
       " 'Sean Gonzalez',\n",
       " 'Mark Hall']"
      ]
     },
     "execution_count": 14,
     "metadata": {},
     "output_type": "execute_result"
    }
   ],
   "source": [
    "lista_nombres"
   ]
  },
  {
   "cell_type": "code",
   "execution_count": 15,
   "id": "50259a9d-6d01-448f-91ce-c139c99b0726",
   "metadata": {},
   "outputs": [],
   "source": [
    "lista_direcciones= []\n",
    "for x in range(0,10):\n",
    "    lista_direcciones.append(fake.address())"
   ]
  },
  {
   "cell_type": "code",
   "execution_count": 16,
   "id": "c7f00b10-468f-40f4-8fa8-f1071f4d6bcc",
   "metadata": {},
   "outputs": [
    {
     "data": {
      "text/plain": [
       "['76322 Anna Wells Apt. 042\\nSouth Christian, AS 72273',\n",
       " 'Unit 2248 Box 4269\\nDPO AA 18131',\n",
       " 'Unit 1261 Box 6906\\nDPO AA 65227',\n",
       " '83879 Wood Orchard\\nEast Kyle, MA 21750',\n",
       " '91573 Richard Inlet\\nWest Samanthaburgh, TN 32303',\n",
       " '3536 Jaclyn Crossroad Suite 853\\nWest Ryanland, HI 28924',\n",
       " '40121 Ayala Underpass Apt. 367\\nDerrickchester, GU 62286',\n",
       " '8540 Maria Roads Apt. 682\\nAustinport, PR 91111',\n",
       " '53343 Samantha Park\\nNew Jennifer, LA 73453',\n",
       " '9855 Gary Motorway Apt. 101\\nAmytown, TX 60717']"
      ]
     },
     "execution_count": 16,
     "metadata": {},
     "output_type": "execute_result"
    }
   ],
   "source": [
    "lista_direcciones"
   ]
  },
  {
   "cell_type": "code",
   "execution_count": 17,
   "id": "ac78f546-da64-4084-8802-abbe5f8eb6d1",
   "metadata": {},
   "outputs": [],
   "source": [
    "lista_tc= []\n",
    "for x in range(0,10):\n",
    "    lista_tc.append(fake.credit_card_number())"
   ]
  },
  {
   "cell_type": "code",
   "execution_count": 18,
   "id": "2d07f0cd-6942-4bb8-b50f-65c7386be7eb",
   "metadata": {},
   "outputs": [
    {
     "data": {
      "text/plain": [
       "['630452629516',\n",
       " '4616077469154351',\n",
       " '4477899610417025',\n",
       " '4928752342699',\n",
       " '342230901064840',\n",
       " '3583310818134415',\n",
       " '4860988559427148',\n",
       " '4837448890708',\n",
       " '6011579812915798',\n",
       " '348972510147045']"
      ]
     },
     "execution_count": 18,
     "metadata": {},
     "output_type": "execute_result"
    }
   ],
   "source": [
    "lista_tc"
   ]
  },
  {
   "cell_type": "code",
   "execution_count": 19,
   "id": "cd9f4204-e48f-4b29-b097-b4a664c20378",
   "metadata": {},
   "outputs": [],
   "source": [
    "lista_mail= []\n",
    "for x in range(0,10):\n",
    "    lista_mail.append(fake.company_email())"
   ]
  },
  {
   "cell_type": "code",
   "execution_count": 20,
   "id": "a4488f18-62fb-4b80-bf53-7b86bbb5f7d5",
   "metadata": {},
   "outputs": [
    {
     "data": {
      "text/plain": [
       "['torresjerry@nelson.com',\n",
       " 'vanessadavis@morrow.com',\n",
       " 'htaylor@brock-brooks.com',\n",
       " 'nfrank@smith.biz',\n",
       " 'cooperblake@cummings.net',\n",
       " 'zachary47@ruiz-brown.com',\n",
       " 'ulewis@gilbert-hatfield.org',\n",
       " 'nicholsangelica@jones.info',\n",
       " 'collinhall@taylor-wilson.info',\n",
       " 'josephvictoria@yang.com']"
      ]
     },
     "execution_count": 20,
     "metadata": {},
     "output_type": "execute_result"
    }
   ],
   "source": [
    "lista_mail"
   ]
  },
  {
   "cell_type": "code",
   "execution_count": 21,
   "id": "52e70f10-3965-4723-9dcd-382d8c454560",
   "metadata": {},
   "outputs": [],
   "source": [
    "lista_txt= []\n",
    "for x in range(0,10):\n",
    "    lista_txt.append(fake.text())"
   ]
  },
  {
   "cell_type": "code",
   "execution_count": 22,
   "id": "e265cd4c-c9fd-461f-be6c-a7cdec72a00c",
   "metadata": {},
   "outputs": [
    {
     "data": {
      "text/plain": [
       "['Director them knowledge people federal.\\nWhether catch store never. Represent wait employee trade group exist yet. Number fine forward of power available.',\n",
       " 'Similar rate direction fund information involve kind before. Wind attention pressure. Civil stuff shoulder protect spend.',\n",
       " 'Soon cut act hair. Defense yet probably threat mission alone player.\\nTelevision event society attention lead themselves mean. While situation assume least growth.',\n",
       " 'Keep another reveal too top I risk. Easy indeed trade. Call individual film leg.\\nPush determine blue collection item. City agreement environmental business cause.',\n",
       " 'Space chair general require finish direction write. Easy head put year guy kitchen. Debate both agency. List recently feeling night answer PM.\\nElection stage minute it.',\n",
       " 'Product maybe smile whole hot protect himself. Already choice probably provide night husband push. Picture until although church child notice similar reason.',\n",
       " 'Think these enough.\\nSomething enjoy type key discuss professional step. Weight science prevent hair surface. Organization could member their lot tax skin.',\n",
       " 'Dog available plan loss charge fine clearly simple. Player spend popular focus picture audience.',\n",
       " 'Back music particularly policy kind hotel. Military color through buy strong magazine.\\nThan man Congress produce idea. Run enough arrive now raise edge. Shoulder no guy eight quality.',\n",
       " 'Themselves investment name door argue. Population wait term face responsibility oil challenge.\\nNot culture body model. Beat movie speech herself board ever degree. Out should stand bill.']"
      ]
     },
     "execution_count": 22,
     "metadata": {},
     "output_type": "execute_result"
    }
   ],
   "source": [
    "lista_txt"
   ]
  }
 ],
 "metadata": {
  "kernelspec": {
   "display_name": "Python 3 (ipykernel)",
   "language": "python",
   "name": "python3"
  },
  "language_info": {
   "codemirror_mode": {
    "name": "ipython",
    "version": 3
   },
   "file_extension": ".py",
   "mimetype": "text/x-python",
   "name": "python",
   "nbconvert_exporter": "python",
   "pygments_lexer": "ipython3",
   "version": "3.9.12"
  }
 },
 "nbformat": 4,
 "nbformat_minor": 5
}
